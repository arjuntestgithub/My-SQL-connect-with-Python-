{
 "cells": [
  {
   "cell_type": "code",
   "execution_count": 1,
   "id": "7b072a02",
   "metadata": {},
   "outputs": [],
   "source": [
    "import sqlite3 as sql"
   ]
  },
  {
   "cell_type": "code",
   "execution_count": 2,
   "id": "98eab5d3",
   "metadata": {},
   "outputs": [],
   "source": [
    "conn=sql.connect(\" memory \")"
   ]
  },
  {
   "cell_type": "code",
   "execution_count": 3,
   "id": "6575e880",
   "metadata": {},
   "outputs": [],
   "source": [
    "cur=conn.cursor()"
   ]
  },
  {
   "cell_type": "code",
   "execution_count": 4,
   "id": "65f0a452",
   "metadata": {},
   "outputs": [],
   "source": [
    "# this is work only on crud operation"
   ]
  },
  {
   "cell_type": "code",
   "execution_count": 7,
   "id": "dc9a6ab0",
   "metadata": {},
   "outputs": [
    {
     "name": "stdout",
     "output_type": "stream",
     "text": [
      "Arjun\n"
     ]
    }
   ],
   "source": [
    "q='''create table mb(mid int (20),m_name varchar (20),price_float)'''\n",
    "\n",
    "cur.execute(q)\n",
    "print(\"Arjun\")"
   ]
  },
  {
   "cell_type": "code",
   "execution_count": 9,
   "id": "be069d21",
   "metadata": {},
   "outputs": [
    {
     "name": "stdout",
     "output_type": "stream",
     "text": [
      "done\n"
     ]
    }
   ],
   "source": [
    "q='''insert into mb values (1,\"vivo\",45890),(2,\"samsung\",845697),(3,\"Apple\",125784)'''\n",
    "\n",
    "cur.execute(q)\n",
    "print(\"done\")"
   ]
  },
  {
   "cell_type": "code",
   "execution_count": 16,
   "id": "51e393c9",
   "metadata": {},
   "outputs": [
    {
     "data": {
      "text/html": [
       "<div>\n",
       "<style scoped>\n",
       "    .dataframe tbody tr th:only-of-type {\n",
       "        vertical-align: middle;\n",
       "    }\n",
       "\n",
       "    .dataframe tbody tr th {\n",
       "        vertical-align: top;\n",
       "    }\n",
       "\n",
       "    .dataframe thead th {\n",
       "        text-align: right;\n",
       "    }\n",
       "</style>\n",
       "<table border=\"1\" class=\"dataframe\">\n",
       "  <thead>\n",
       "    <tr style=\"text-align: right;\">\n",
       "      <th></th>\n",
       "      <th>mid</th>\n",
       "      <th>m_name</th>\n",
       "      <th>price_float</th>\n",
       "    </tr>\n",
       "  </thead>\n",
       "  <tbody>\n",
       "    <tr>\n",
       "      <th>0</th>\n",
       "      <td>1</td>\n",
       "      <td>vivo</td>\n",
       "      <td>45890</td>\n",
       "    </tr>\n",
       "    <tr>\n",
       "      <th>1</th>\n",
       "      <td>2</td>\n",
       "      <td>samsung</td>\n",
       "      <td>845697</td>\n",
       "    </tr>\n",
       "    <tr>\n",
       "      <th>2</th>\n",
       "      <td>3</td>\n",
       "      <td>Apple</td>\n",
       "      <td>125784</td>\n",
       "    </tr>\n",
       "    <tr>\n",
       "      <th>3</th>\n",
       "      <td>1</td>\n",
       "      <td>vivo</td>\n",
       "      <td>45890</td>\n",
       "    </tr>\n",
       "    <tr>\n",
       "      <th>4</th>\n",
       "      <td>2</td>\n",
       "      <td>samsung</td>\n",
       "      <td>845697</td>\n",
       "    </tr>\n",
       "    <tr>\n",
       "      <th>5</th>\n",
       "      <td>3</td>\n",
       "      <td>Apple</td>\n",
       "      <td>125784</td>\n",
       "    </tr>\n",
       "  </tbody>\n",
       "</table>\n",
       "</div>"
      ],
      "text/plain": [
       "   mid   m_name  price_float\n",
       "0    1     vivo        45890\n",
       "1    2  samsung       845697\n",
       "2    3    Apple       125784\n",
       "3    1     vivo        45890\n",
       "4    2  samsung       845697\n",
       "5    3    Apple       125784"
      ]
     },
     "execution_count": 16,
     "metadata": {},
     "output_type": "execute_result"
    }
   ],
   "source": [
    "q='''select * from mb'''\n",
    "cur.execute(q)\n",
    "result=cur.fetchall()\n",
    "import pandas as pd\n",
    "pd.DataFrame(result,columns= [i[0] for i in cur.description])"
   ]
  },
  {
   "cell_type": "code",
   "execution_count": 11,
   "id": "c8265293",
   "metadata": {},
   "outputs": [
    {
     "data": {
      "text/plain": [
       "[(1, 'vivo', 45890),\n",
       " (2, 'samsung', 845697),\n",
       " (3, 'Apple', 125784),\n",
       " (1, 'vivo', 45890),\n",
       " (2, 'samsung', 845697),\n",
       " (3, 'Apple', 125784)]"
      ]
     },
     "execution_count": 11,
     "metadata": {},
     "output_type": "execute_result"
    }
   ],
   "source": [
    "result"
   ]
  },
  {
   "cell_type": "code",
   "execution_count": null,
   "id": "ce06d8f6",
   "metadata": {},
   "outputs": [],
   "source": []
  }
 ],
 "metadata": {
  "kernelspec": {
   "display_name": "Python 3 (ipykernel)",
   "language": "python",
   "name": "python3"
  },
  "language_info": {
   "codemirror_mode": {
    "name": "ipython",
    "version": 3
   },
   "file_extension": ".py",
   "mimetype": "text/x-python",
   "name": "python",
   "nbconvert_exporter": "python",
   "pygments_lexer": "ipython3",
   "version": "3.10.9"
  }
 },
 "nbformat": 4,
 "nbformat_minor": 5
}
