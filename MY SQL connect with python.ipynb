{
 "cells": [
  {
   "cell_type": "code",
   "execution_count": 1,
   "id": "330d3c30",
   "metadata": {},
   "outputs": [
    {
     "name": "stdout",
     "output_type": "stream",
     "text": [
      "Requirement already satisfied: pymysql in c:\\users\\arjun\\anaconda3\\lib\\site-packages (1.1.0)\n"
     ]
    }
   ],
   "source": [
    "!pip install pymysql"
   ]
  },
  {
   "cell_type": "code",
   "execution_count": 3,
   "id": "a06cb3e5",
   "metadata": {},
   "outputs": [],
   "source": [
    "import pymysql as py"
   ]
  },
  {
   "cell_type": "code",
   "execution_count": 6,
   "id": "7cf98737",
   "metadata": {},
   "outputs": [
    {
     "name": "stdout",
     "output_type": "stream",
     "text": [
      "done\n"
     ]
    }
   ],
   "source": [
    "conn =py.connect(user='root',\n",
    "                 password='Arjun@2585',\n",
    "                 host= 'localhost',\n",
    "                 autocommit = True,)\n",
    "print('done')"
   ]
  },
  {
   "cell_type": "code",
   "execution_count": 8,
   "id": "272ed39e",
   "metadata": {},
   "outputs": [
    {
     "name": "stdout",
     "output_type": "stream",
     "text": [
      "done\n"
     ]
    }
   ],
   "source": [
    "cur=conn.cursor()\n",
    "print('done')"
   ]
  },
  {
   "cell_type": "code",
   "execution_count": 11,
   "id": "b75fe6dc",
   "metadata": {},
   "outputs": [],
   "source": [
    "q='''use emp;'''"
   ]
  },
  {
   "cell_type": "code",
   "execution_count": 12,
   "id": "7a7e00d5",
   "metadata": {},
   "outputs": [
    {
     "data": {
      "text/plain": [
       "0"
      ]
     },
     "execution_count": 12,
     "metadata": {},
     "output_type": "execute_result"
    }
   ],
   "source": [
    "cur.execute(q)"
   ]
  },
  {
   "cell_type": "code",
   "execution_count": 17,
   "id": "55d160be",
   "metadata": {},
   "outputs": [],
   "source": [
    "q='''show tables'''\n",
    "cur.execute(q)\n",
    "result=cur.fetchall()\n"
   ]
  },
  {
   "cell_type": "code",
   "execution_count": 18,
   "id": "baadf421",
   "metadata": {},
   "outputs": [
    {
     "data": {
      "text/plain": [
       "(('copydetails',), ('details',), ('salery_details',))"
      ]
     },
     "execution_count": 18,
     "metadata": {},
     "output_type": "execute_result"
    }
   ],
   "source": [
    "result"
   ]
  },
  {
   "cell_type": "code",
   "execution_count": 27,
   "id": "a407d21f",
   "metadata": {},
   "outputs": [],
   "source": [
    "col=cur.description[0][0]"
   ]
  },
  {
   "cell_type": "code",
   "execution_count": 28,
   "id": "f66bae44",
   "metadata": {},
   "outputs": [],
   "source": [
    "import pandas as pd "
   ]
  },
  {
   "cell_type": "code",
   "execution_count": 30,
   "id": "e02e9fbb",
   "metadata": {},
   "outputs": [],
   "source": [
    "table = pd.DataFrame(result,columns=[col])"
   ]
  },
  {
   "cell_type": "code",
   "execution_count": 31,
   "id": "ba200219",
   "metadata": {},
   "outputs": [
    {
     "data": {
      "text/html": [
       "<div>\n",
       "<style scoped>\n",
       "    .dataframe tbody tr th:only-of-type {\n",
       "        vertical-align: middle;\n",
       "    }\n",
       "\n",
       "    .dataframe tbody tr th {\n",
       "        vertical-align: top;\n",
       "    }\n",
       "\n",
       "    .dataframe thead th {\n",
       "        text-align: right;\n",
       "    }\n",
       "</style>\n",
       "<table border=\"1\" class=\"dataframe\">\n",
       "  <thead>\n",
       "    <tr style=\"text-align: right;\">\n",
       "      <th></th>\n",
       "      <th>Tables_in_emp</th>\n",
       "    </tr>\n",
       "  </thead>\n",
       "  <tbody>\n",
       "    <tr>\n",
       "      <th>0</th>\n",
       "      <td>copydetails</td>\n",
       "    </tr>\n",
       "    <tr>\n",
       "      <th>1</th>\n",
       "      <td>details</td>\n",
       "    </tr>\n",
       "    <tr>\n",
       "      <th>2</th>\n",
       "      <td>salery_details</td>\n",
       "    </tr>\n",
       "  </tbody>\n",
       "</table>\n",
       "</div>"
      ],
      "text/plain": [
       "    Tables_in_emp\n",
       "0     copydetails\n",
       "1         details\n",
       "2  salery_details"
      ]
     },
     "execution_count": 31,
     "metadata": {},
     "output_type": "execute_result"
    }
   ],
   "source": [
    "table"
   ]
  },
  {
   "cell_type": "code",
   "execution_count": 45,
   "id": "b1190936",
   "metadata": {},
   "outputs": [
    {
     "data": {
      "text/html": [
       "<div>\n",
       "<style scoped>\n",
       "    .dataframe tbody tr th:only-of-type {\n",
       "        vertical-align: middle;\n",
       "    }\n",
       "\n",
       "    .dataframe tbody tr th {\n",
       "        vertical-align: top;\n",
       "    }\n",
       "\n",
       "    .dataframe thead th {\n",
       "        text-align: right;\n",
       "    }\n",
       "</style>\n",
       "<table border=\"1\" class=\"dataframe\">\n",
       "  <thead>\n",
       "    <tr style=\"text-align: right;\">\n",
       "      <th></th>\n",
       "      <th>Emp_id</th>\n",
       "      <th>name</th>\n",
       "      <th>Salery</th>\n",
       "      <th>designation</th>\n",
       "      <th>Department</th>\n",
       "      <th>manager_id</th>\n",
       "      <th>project_id</th>\n",
       "    </tr>\n",
       "  </thead>\n",
       "  <tbody>\n",
       "    <tr>\n",
       "      <th>0</th>\n",
       "      <td>1</td>\n",
       "      <td>Arjun</td>\n",
       "      <td>S1</td>\n",
       "      <td>Software Devloper</td>\n",
       "      <td>IT</td>\n",
       "      <td>101</td>\n",
       "      <td>A1</td>\n",
       "    </tr>\n",
       "    <tr>\n",
       "      <th>1</th>\n",
       "      <td>2</td>\n",
       "      <td>Jatin</td>\n",
       "      <td>S2</td>\n",
       "      <td>Halper</td>\n",
       "      <td>HR</td>\n",
       "      <td>102</td>\n",
       "      <td>A2</td>\n",
       "    </tr>\n",
       "    <tr>\n",
       "      <th>2</th>\n",
       "      <td>3</td>\n",
       "      <td>Sumit</td>\n",
       "      <td>S3</td>\n",
       "      <td>Eng</td>\n",
       "      <td>IT</td>\n",
       "      <td>103</td>\n",
       "      <td>A3</td>\n",
       "    </tr>\n",
       "    <tr>\n",
       "      <th>3</th>\n",
       "      <td>4</td>\n",
       "      <td>Parteek</td>\n",
       "      <td>S4</td>\n",
       "      <td>Data Science</td>\n",
       "      <td>IT</td>\n",
       "      <td>104</td>\n",
       "      <td>A4</td>\n",
       "    </tr>\n",
       "    <tr>\n",
       "      <th>4</th>\n",
       "      <td>5</td>\n",
       "      <td>Manjeet</td>\n",
       "      <td>S5</td>\n",
       "      <td>Govt Emp</td>\n",
       "      <td>HR</td>\n",
       "      <td>105</td>\n",
       "      <td>A5</td>\n",
       "    </tr>\n",
       "    <tr>\n",
       "      <th>5</th>\n",
       "      <td>6</td>\n",
       "      <td>Deepak</td>\n",
       "      <td>S6</td>\n",
       "      <td>Vlsi</td>\n",
       "      <td>IT</td>\n",
       "      <td>106</td>\n",
       "      <td>A6</td>\n",
       "    </tr>\n",
       "    <tr>\n",
       "      <th>6</th>\n",
       "      <td>7</td>\n",
       "      <td>Parakshit</td>\n",
       "      <td>S7</td>\n",
       "      <td>Manager</td>\n",
       "      <td>HR</td>\n",
       "      <td>107</td>\n",
       "      <td>A7</td>\n",
       "    </tr>\n",
       "  </tbody>\n",
       "</table>\n",
       "</div>"
      ],
      "text/plain": [
       "   Emp_id       name Salery        designation Department  manager_id  \\\n",
       "0       1      Arjun     S1  Software Devloper         IT         101   \n",
       "1       2      Jatin     S2             Halper         HR         102   \n",
       "2       3      Sumit     S3                Eng         IT         103   \n",
       "3       4    Parteek     S4       Data Science         IT         104   \n",
       "4       5    Manjeet     S5           Govt Emp         HR         105   \n",
       "5       6     Deepak     S6               Vlsi         IT         106   \n",
       "6       7  Parakshit     S7            Manager         HR         107   \n",
       "\n",
       "  project_id  \n",
       "0         A1  \n",
       "1         A2  \n",
       "2         A3  \n",
       "3         A4  \n",
       "4         A5  \n",
       "5         A6  \n",
       "6         A7  "
      ]
     },
     "execution_count": 45,
     "metadata": {},
     "output_type": "execute_result"
    }
   ],
   "source": [
    "q='''select * from copydetails ;'''\n",
    "cur.execute(q)\n",
    "#col = cur.description\n",
    "col=[i[0] for i in cur.description]\n",
    "\n",
    "result=cur.fetchall()\n",
    "#print('done')\n",
    "product=pd.DataFrame(result,columns=col)\n",
    "product"
   ]
  },
  {
   "cell_type": "code",
   "execution_count": 56,
   "id": "b9661777",
   "metadata": {},
   "outputs": [],
   "source": [
    "def show_table(tabelname):\n",
    "    \n",
    "    try:\n",
    "    \n",
    "        q=f'''select * from {tabelname};'''\n",
    "        cur.execute(q)\n",
    "        col=[i[0] for i in cur.description]\n",
    "        result=cur.fetchall()\n",
    "\n",
    "        product=pd.DataFrame(result,columns=col)\n",
    "        return product\n",
    "    \n",
    "    except:\n",
    "        print('Arjun Some Error in Your code')\n",
    "\n",
    "    "
   ]
  },
  {
   "cell_type": "code",
   "execution_count": 57,
   "id": "8e3de143",
   "metadata": {},
   "outputs": [
    {
     "data": {
      "text/html": [
       "<div>\n",
       "<style scoped>\n",
       "    .dataframe tbody tr th:only-of-type {\n",
       "        vertical-align: middle;\n",
       "    }\n",
       "\n",
       "    .dataframe tbody tr th {\n",
       "        vertical-align: top;\n",
       "    }\n",
       "\n",
       "    .dataframe thead th {\n",
       "        text-align: right;\n",
       "    }\n",
       "</style>\n",
       "<table border=\"1\" class=\"dataframe\">\n",
       "  <thead>\n",
       "    <tr style=\"text-align: right;\">\n",
       "      <th></th>\n",
       "      <th>Emp_id</th>\n",
       "      <th>name</th>\n",
       "      <th>Salery</th>\n",
       "      <th>designation</th>\n",
       "      <th>Department</th>\n",
       "      <th>manager_id</th>\n",
       "      <th>project_id</th>\n",
       "    </tr>\n",
       "  </thead>\n",
       "  <tbody>\n",
       "    <tr>\n",
       "      <th>0</th>\n",
       "      <td>1</td>\n",
       "      <td>Arjun</td>\n",
       "      <td>S1</td>\n",
       "      <td>Software Devloper</td>\n",
       "      <td>IT</td>\n",
       "      <td>101</td>\n",
       "      <td>A1</td>\n",
       "    </tr>\n",
       "    <tr>\n",
       "      <th>1</th>\n",
       "      <td>2</td>\n",
       "      <td>Jatin</td>\n",
       "      <td>S2</td>\n",
       "      <td>Halper</td>\n",
       "      <td>HR</td>\n",
       "      <td>102</td>\n",
       "      <td>A2</td>\n",
       "    </tr>\n",
       "    <tr>\n",
       "      <th>2</th>\n",
       "      <td>3</td>\n",
       "      <td>Sumit</td>\n",
       "      <td>S3</td>\n",
       "      <td>Eng</td>\n",
       "      <td>IT</td>\n",
       "      <td>103</td>\n",
       "      <td>A3</td>\n",
       "    </tr>\n",
       "    <tr>\n",
       "      <th>3</th>\n",
       "      <td>4</td>\n",
       "      <td>Parteek</td>\n",
       "      <td>S4</td>\n",
       "      <td>Data Science</td>\n",
       "      <td>IT</td>\n",
       "      <td>104</td>\n",
       "      <td>A4</td>\n",
       "    </tr>\n",
       "    <tr>\n",
       "      <th>4</th>\n",
       "      <td>5</td>\n",
       "      <td>Manjeet</td>\n",
       "      <td>S5</td>\n",
       "      <td>Govt Emp</td>\n",
       "      <td>HR</td>\n",
       "      <td>105</td>\n",
       "      <td>A5</td>\n",
       "    </tr>\n",
       "    <tr>\n",
       "      <th>5</th>\n",
       "      <td>6</td>\n",
       "      <td>Deepak</td>\n",
       "      <td>S6</td>\n",
       "      <td>Vlsi</td>\n",
       "      <td>IT</td>\n",
       "      <td>106</td>\n",
       "      <td>A6</td>\n",
       "    </tr>\n",
       "    <tr>\n",
       "      <th>6</th>\n",
       "      <td>7</td>\n",
       "      <td>Parakshit</td>\n",
       "      <td>S7</td>\n",
       "      <td>Manager</td>\n",
       "      <td>HR</td>\n",
       "      <td>107</td>\n",
       "      <td>A7</td>\n",
       "    </tr>\n",
       "  </tbody>\n",
       "</table>\n",
       "</div>"
      ],
      "text/plain": [
       "   Emp_id       name Salery        designation Department  manager_id  \\\n",
       "0       1      Arjun     S1  Software Devloper         IT         101   \n",
       "1       2      Jatin     S2             Halper         HR         102   \n",
       "2       3      Sumit     S3                Eng         IT         103   \n",
       "3       4    Parteek     S4       Data Science         IT         104   \n",
       "4       5    Manjeet     S5           Govt Emp         HR         105   \n",
       "5       6     Deepak     S6               Vlsi         IT         106   \n",
       "6       7  Parakshit     S7            Manager         HR         107   \n",
       "\n",
       "  project_id  \n",
       "0         A1  \n",
       "1         A2  \n",
       "2         A3  \n",
       "3         A4  \n",
       "4         A5  \n",
       "5         A6  \n",
       "6         A7  "
      ]
     },
     "execution_count": 57,
     "metadata": {},
     "output_type": "execute_result"
    }
   ],
   "source": [
    "\n",
    "show_table('copydetails')"
   ]
  },
  {
   "cell_type": "code",
   "execution_count": 61,
   "id": "460785a9",
   "metadata": {},
   "outputs": [],
   "source": [
    "def make_conn(pwd):\n",
    "    conn =py.connect(user='root',\n",
    "                 password=pwd,\n",
    "                 host= 'localhost',\n",
    "                 autocommit = True,)\n",
    "    \n",
    "    cur=conn.cursor()\n",
    "    return cur\n",
    "    "
   ]
  },
  {
   "cell_type": "code",
   "execution_count": 62,
   "id": "ad00ff44",
   "metadata": {},
   "outputs": [
    {
     "data": {
      "text/plain": [
       "<pymysql.cursors.Cursor at 0x2565771bc10>"
      ]
     },
     "execution_count": 62,
     "metadata": {},
     "output_type": "execute_result"
    }
   ],
   "source": [
    "make_conn('Arjun@2585')"
   ]
  },
  {
   "cell_type": "code",
   "execution_count": 70,
   "id": "ef53deed",
   "metadata": {},
   "outputs": [],
   "source": [
    "def run_Query(q):\n",
    "    \n",
    "    cur.execute(q)\n",
    "    result=cur.fetchall()\n",
    "    \n",
    "    col=[i[0] for i in cur.description]\n",
    "    product=pd.DataFrame(result,columns=col)\n",
    "    return product\n",
    "\n",
    "    "
   ]
  },
  {
   "cell_type": "code",
   "execution_count": 67,
   "id": "0dff3a6f",
   "metadata": {},
   "outputs": [
    {
     "data": {
      "text/html": [
       "<div>\n",
       "<style scoped>\n",
       "    .dataframe tbody tr th:only-of-type {\n",
       "        vertical-align: middle;\n",
       "    }\n",
       "\n",
       "    .dataframe tbody tr th {\n",
       "        vertical-align: top;\n",
       "    }\n",
       "\n",
       "    .dataframe thead th {\n",
       "        text-align: right;\n",
       "    }\n",
       "</style>\n",
       "<table border=\"1\" class=\"dataframe\">\n",
       "  <thead>\n",
       "    <tr style=\"text-align: right;\">\n",
       "      <th></th>\n",
       "      <th>Database</th>\n",
       "    </tr>\n",
       "  </thead>\n",
       "  <tbody>\n",
       "    <tr>\n",
       "      <th>0</th>\n",
       "      <td>arjun</td>\n",
       "    </tr>\n",
       "    <tr>\n",
       "      <th>1</th>\n",
       "      <td>countrypopulation</td>\n",
       "    </tr>\n",
       "    <tr>\n",
       "      <th>2</th>\n",
       "      <td>emp</td>\n",
       "    </tr>\n",
       "    <tr>\n",
       "      <th>3</th>\n",
       "      <td>hms</td>\n",
       "    </tr>\n",
       "    <tr>\n",
       "      <th>4</th>\n",
       "      <td>information_schema</td>\n",
       "    </tr>\n",
       "    <tr>\n",
       "      <th>5</th>\n",
       "      <td>isro</td>\n",
       "    </tr>\n",
       "    <tr>\n",
       "      <th>6</th>\n",
       "      <td>mysql</td>\n",
       "    </tr>\n",
       "    <tr>\n",
       "      <th>7</th>\n",
       "      <td>performance_schema</td>\n",
       "    </tr>\n",
       "    <tr>\n",
       "      <th>8</th>\n",
       "      <td>product</td>\n",
       "    </tr>\n",
       "    <tr>\n",
       "      <th>9</th>\n",
       "      <td>sys</td>\n",
       "    </tr>\n",
       "  </tbody>\n",
       "</table>\n",
       "</div>"
      ],
      "text/plain": [
       "             Database\n",
       "0               arjun\n",
       "1   countrypopulation\n",
       "2                 emp\n",
       "3                 hms\n",
       "4  information_schema\n",
       "5                isro\n",
       "6               mysql\n",
       "7  performance_schema\n",
       "8             product\n",
       "9                 sys"
      ]
     },
     "execution_count": 67,
     "metadata": {},
     "output_type": "execute_result"
    }
   ],
   "source": [
    "#run_Query('''Show Databases;''')"
   ]
  },
  {
   "cell_type": "code",
   "execution_count": 71,
   "id": "1b0bbabf",
   "metadata": {},
   "outputs": [
    {
     "ename": "TypeError",
     "evalue": "'NoneType' object is not iterable",
     "output_type": "error",
     "traceback": [
      "\u001b[1;31m---------------------------------------------------------------------------\u001b[0m",
      "\u001b[1;31mTypeError\u001b[0m                                 Traceback (most recent call last)",
      "Cell \u001b[1;32mIn[71], line 1\u001b[0m\n\u001b[1;32m----> 1\u001b[0m \u001b[43mrun_Query\u001b[49m\u001b[43m(\u001b[49m\u001b[38;5;124;43m'\u001b[39;49m\u001b[38;5;124;43muse emp;\u001b[39;49m\u001b[38;5;124;43m'\u001b[39;49m\u001b[43m)\u001b[49m\n",
      "Cell \u001b[1;32mIn[70], line 6\u001b[0m, in \u001b[0;36mrun_Query\u001b[1;34m(q)\u001b[0m\n\u001b[0;32m      3\u001b[0m cur\u001b[38;5;241m.\u001b[39mexecute(q)\n\u001b[0;32m      4\u001b[0m result\u001b[38;5;241m=\u001b[39mcur\u001b[38;5;241m.\u001b[39mfetchall()\n\u001b[1;32m----> 6\u001b[0m col\u001b[38;5;241m=\u001b[39m[i[\u001b[38;5;241m0\u001b[39m] \u001b[38;5;28;01mfor\u001b[39;00m i \u001b[38;5;129;01min\u001b[39;00m cur\u001b[38;5;241m.\u001b[39mdescription]\n\u001b[0;32m      7\u001b[0m product\u001b[38;5;241m=\u001b[39mpd\u001b[38;5;241m.\u001b[39mDataFrame(result,columns\u001b[38;5;241m=\u001b[39mcol)\n\u001b[0;32m      8\u001b[0m \u001b[38;5;28;01mreturn\u001b[39;00m product\n",
      "\u001b[1;31mTypeError\u001b[0m: 'NoneType' object is not iterable"
     ]
    }
   ],
   "source": [
    "run_Query('use emp;')"
   ]
  },
  {
   "cell_type": "code",
   "execution_count": null,
   "id": "171be004",
   "metadata": {},
   "outputs": [],
   "source": []
  }
 ],
 "metadata": {
  "kernelspec": {
   "display_name": "Python 3 (ipykernel)",
   "language": "python",
   "name": "python3"
  },
  "language_info": {
   "codemirror_mode": {
    "name": "ipython",
    "version": 3
   },
   "file_extension": ".py",
   "mimetype": "text/x-python",
   "name": "python",
   "nbconvert_exporter": "python",
   "pygments_lexer": "ipython3",
   "version": "3.10.9"
  }
 },
 "nbformat": 4,
 "nbformat_minor": 5
}
